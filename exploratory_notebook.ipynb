{
 "cells": [
  {
   "cell_type": "code",
   "execution_count": 2,
   "metadata": {},
   "outputs": [],
   "source": [
    "import pandas as pd"
   ]
  },
  {
   "cell_type": "code",
   "execution_count": 15,
   "metadata": {},
   "outputs": [
    {
     "name": "stderr",
     "output_type": "stream",
     "text": [
      "/Users/Michael/anaconda3/envs/PythonData/lib/python3.6/site-packages/IPython/core/interactiveshell.py:2785: DtypeWarning: Columns (23,35) have mixed types. Specify dtype option on import or set low_memory=False.\n",
      "  interactivity=interactivity, compiler=compiler, result=result)\n"
     ]
    },
    {
     "data": {
      "text/plain": [
       "Name                   Cristiano Ronaldo\n",
       "Age                                   32\n",
       "Nationality                     Portugal\n",
       "Overall                               94\n",
       "Potential                             94\n",
       "Club                      Real Madrid CF\n",
       "Special                             2228\n",
       "Acceleration                          89\n",
       "Aggression                            63\n",
       "Agility                               89\n",
       "Balance                               63\n",
       "Ball control                          93\n",
       "Composure                             95\n",
       "Crossing                              85\n",
       "Curve                                 81\n",
       "Dribbling                             91\n",
       "Finishing                             94\n",
       "Free kick accuracy                    76\n",
       "GK diving                              7\n",
       "GK handling                           11\n",
       "GK kicking                            15\n",
       "GK positioning                        14\n",
       "GK reflexes                           11\n",
       "Heading accuracy                      88\n",
       "Interceptions                         29\n",
       "Jumping                               95\n",
       "Long passing                          77\n",
       "Long shots                            92\n",
       "Marking                               22\n",
       "Penalties                             85\n",
       "                             ...        \n",
       "Vision                                85\n",
       "Volleys                               88\n",
       "CAM                                   89\n",
       "CB                                    53\n",
       "CDM                                   62\n",
       "CF                                    91\n",
       "CM                                    82\n",
       "ID                                 20801\n",
       "LAM                                   89\n",
       "LB                                    61\n",
       "LCB                                   53\n",
       "LCM                                   82\n",
       "LDM                                   62\n",
       "LF                                    91\n",
       "LM                                    89\n",
       "LS                                    92\n",
       "LW                                    91\n",
       "LWB                                   66\n",
       "Preferred Positions               ST LW \n",
       "RAM                                   89\n",
       "RB                                    61\n",
       "RCB                                   53\n",
       "RCM                                   82\n",
       "RDM                                   62\n",
       "RF                                    91\n",
       "RM                                    89\n",
       "RS                                    92\n",
       "RW                                    91\n",
       "RWB                                   66\n",
       "ST                                    92\n",
       "Name: 0, Length: 69, dtype: object"
      ]
     },
     "execution_count": 15,
     "metadata": {},
     "output_type": "execute_result"
    }
   ],
   "source": [
    "df = pd.read_csv('resources/fifa-18-demo-player-dataset/CompleteDataset.csv')\n",
    "df.drop(columns=['Unnamed: 0', 'Flag', 'Club Logo', 'Value', 'Wage', 'Photo'], inplace=True)\n",
    "df.iloc[0]"
   ]
  },
  {
   "cell_type": "code",
   "execution_count": null,
   "metadata": {},
   "outputs": [],
   "source": []
  },
  {
   "cell_type": "code",
   "execution_count": null,
   "metadata": {},
   "outputs": [],
   "source": []
  },
  {
   "cell_type": "code",
   "execution_count": null,
   "metadata": {},
   "outputs": [],
   "source": []
  },
  {
   "cell_type": "code",
   "execution_count": null,
   "metadata": {},
   "outputs": [],
   "source": []
  },
  {
   "cell_type": "code",
   "execution_count": null,
   "metadata": {},
   "outputs": [],
   "source": []
  },
  {
   "cell_type": "code",
   "execution_count": null,
   "metadata": {},
   "outputs": [],
   "source": []
  }
 ],
 "metadata": {
  "kernelspec": {
   "display_name": "Python 3",
   "language": "python",
   "name": "python3"
  },
  "language_info": {
   "codemirror_mode": {
    "name": "ipython",
    "version": 3
   },
   "file_extension": ".py",
   "mimetype": "text/x-python",
   "name": "python",
   "nbconvert_exporter": "python",
   "pygments_lexer": "ipython3",
   "version": "3.6.5"
  }
 },
 "nbformat": 4,
 "nbformat_minor": 2
}
