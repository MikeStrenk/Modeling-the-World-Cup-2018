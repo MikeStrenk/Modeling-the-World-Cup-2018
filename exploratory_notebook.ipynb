{
 "cells": [
  {
   "cell_type": "code",
   "execution_count": 2,
   "metadata": {},
   "outputs": [],
   "source": [
    "import pandas as pd\n",
    "# import re"
   ]
  },
  {
   "cell_type": "code",
   "execution_count": 8,
   "metadata": {
    "scrolled": true
   },
   "outputs": [
    {
     "name": "stderr",
     "output_type": "stream",
     "text": [
      "/Users/chandra/anaconda3/lib/python3.6/site-packages/IPython/core/interactiveshell.py:2728: DtypeWarning: Columns (23,35) have mixed types. Specify dtype option on import or set low_memory=False.\n",
      "  interactivity=interactivity, compiler=compiler, result=result)\n"
     ]
    },
    {
     "data": {
      "text/plain": [
       "Index(['Name', 'Age', 'Nationality', 'Overall', 'Potential', 'Club', 'Special',\n",
       "       'Acceleration', 'Aggression', 'Agility', 'Balance', 'Ball control',\n",
       "       'Composure', 'Crossing', 'Curve', 'Dribbling', 'Finishing',\n",
       "       'Free kick accuracy', 'GK diving', 'GK handling', 'GK kicking',\n",
       "       'GK positioning', 'GK reflexes', 'Heading accuracy', 'Interceptions',\n",
       "       'Jumping', 'Long passing', 'Long shots', 'Marking', 'Penalties',\n",
       "       'Positioning', 'Reactions', 'Short passing', 'Shot power',\n",
       "       'Sliding tackle', 'Sprint speed', 'Stamina', 'Standing tackle',\n",
       "       'Strength', 'Vision', 'Volleys', 'CAM', 'CB', 'CDM', 'CF', 'CM', 'ID',\n",
       "       'LAM', 'LB', 'LCB', 'LCM', 'LDM', 'LF', 'LM', 'LS', 'LW', 'LWB',\n",
       "       'Preferred Positions', 'RAM', 'RB', 'RCB', 'RCM', 'RDM', 'RF', 'RM',\n",
       "       'RS', 'RW', 'RWB', 'ST'],\n",
       "      dtype='object')"
      ]
     },
     "execution_count": 8,
     "metadata": {},
     "output_type": "execute_result"
    }
   ],
   "source": [
    "df = pd.read_csv('resources/fifa-18-demo-player-dataset/CompleteDataset.csv')\n",
    "df.drop(columns=['Unnamed: 0', 'Flag', 'Club Logo', 'Value', 'Wage', 'Photo'], inplace=True)\n",
    "df.columns"
   ]
  },
  {
   "cell_type": "code",
   "execution_count": 66,
   "metadata": {
    "scrolled": true
   },
   "outputs": [
    {
     "data": {
      "text/plain": [
       "['ST',\n",
       " 'RW',\n",
       " 'LW',\n",
       " 'GK',\n",
       " 'CDM',\n",
       " 'CB',\n",
       " 'RM',\n",
       " 'CM',\n",
       " 'LM',\n",
       " 'LB',\n",
       " 'CAM',\n",
       " 'RB',\n",
       " 'CF',\n",
       " 'RWB',\n",
       " 'LWB']"
      ]
     },
     "execution_count": 66,
     "metadata": {},
     "output_type": "execute_result"
    }
   ],
   "source": [
    "positions_list = list(df['Preferred Positions'].apply(lambda x: x.split(' ', 1)[0]).drop_duplicates())\n",
    "positions_list"
   ]
  },
  {
   "cell_type": "code",
   "execution_count": 67,
   "metadata": {},
   "outputs": [],
   "source": [
    "positions_dict = {'ST': 'Attack',\n",
    "                  'RW': 'Attack',\n",
    "                  'LW': 'Attack',\n",
    "                  'GK': 'Defense',\n",
    "                  'CDM': 'Midfield',\n",
    "                  'CB': 'Defense',\n",
    "                  'RM': 'Midfield',\n",
    "                  'CM': 'Midfield',\n",
    "                  'LM': 'Midfield',\n",
    "                  'LB': 'Defense',\n",
    "                  'CAM': 'Midfield',\n",
    "                  'RB': 'Defense',\n",
    "                  'CF': 'Attack',\n",
    "                  'RWB': 'Defense',\n",
    "                  'LWB': 'Defense'}"
   ]
  },
  {
   "cell_type": "code",
   "execution_count": 111,
   "metadata": {},
   "outputs": [
    {
     "data": {
      "text/html": [
       "<div>\n",
       "<style scoped>\n",
       "    .dataframe tbody tr th:only-of-type {\n",
       "        vertical-align: middle;\n",
       "    }\n",
       "\n",
       "    .dataframe tbody tr th {\n",
       "        vertical-align: top;\n",
       "    }\n",
       "\n",
       "    .dataframe thead th {\n",
       "        text-align: right;\n",
       "    }\n",
       "</style>\n",
       "<table border=\"1\" class=\"dataframe\">\n",
       "  <thead>\n",
       "    <tr style=\"text-align: right;\">\n",
       "      <th></th>\n",
       "      <th></th>\n",
       "      <th>Overall</th>\n",
       "    </tr>\n",
       "    <tr>\n",
       "      <th>Nationality</th>\n",
       "      <th>Preferred Positions</th>\n",
       "      <th></th>\n",
       "    </tr>\n",
       "  </thead>\n",
       "  <tbody>\n",
       "    <tr>\n",
       "      <th rowspan=\"3\" valign=\"top\">Brazil</th>\n",
       "      <th>Attack</th>\n",
       "      <td>92.00</td>\n",
       "    </tr>\n",
       "    <tr>\n",
       "      <th>Defense</th>\n",
       "      <td>85.25</td>\n",
       "    </tr>\n",
       "    <tr>\n",
       "      <th>Midfield</th>\n",
       "      <td>84.80</td>\n",
       "    </tr>\n",
       "  </tbody>\n",
       "</table>\n",
       "</div>"
      ],
      "text/plain": [
       "                                 Overall\n",
       "Nationality Preferred Positions         \n",
       "Brazil      Attack                 92.00\n",
       "            Defense                85.25\n",
       "            Midfield               84.80"
      ]
     },
     "execution_count": 111,
     "metadata": {},
     "output_type": "execute_result"
    }
   ],
   "source": [
    "df2 = df[['Name', 'Club', 'Nationality', 'Preferred Positions', 'Overall']].copy()\n",
    "df2['Preferred Positions'] = df2['Preferred Positions'].apply(lambda x: x.split(' ', 1)[0]).replace(positions_dict)\n",
    "\n",
    "team = 'Brazil'\n",
    "df2[df2['Nationality'] == team].head(14).groupby(['Nationality', 'Preferred Positions']).mean()"
   ]
  },
  {
   "cell_type": "code",
   "execution_count": null,
   "metadata": {},
   "outputs": [],
   "source": []
  },
  {
   "cell_type": "code",
   "execution_count": null,
   "metadata": {},
   "outputs": [],
   "source": []
  },
  {
   "cell_type": "code",
   "execution_count": 5,
   "metadata": {
    "scrolled": true
   },
   "outputs": [
    {
     "data": {
      "text/plain": [
       "Index(['Unnamed: 0', 'Div', 'Date', 'HomeTeam', 'AwayTeam', 'FTHG', 'FTAG',\n",
       "       'FTR', 'HTHG', 'HTAG', 'HTR', 'Referee', 'HS', 'AS', 'HST', 'AST', 'HF',\n",
       "       'AF', 'HC', 'AC', 'HY', 'AY', 'HR', 'AR', 'B365H', 'B365D', 'B365A',\n",
       "       'BWH', 'BWD', 'BWA', 'IWH', 'IWD', 'IWA', 'LBH', 'LBD', 'LBA', 'PSH',\n",
       "       'PSD', 'PSA', 'WHH', 'WHD', 'WHA', 'VCH', 'VCD', 'VCA', 'Bb1X2',\n",
       "       'BbMxH', 'BbAvH', 'BbMxD', 'BbAvD', 'BbMxA', 'BbAvA', 'BbOU',\n",
       "       'BbMx>2.5', 'BbAv>2.5', 'BbMx<2.5', 'BbAv<2.5', 'BbAH', 'BbAHh',\n",
       "       'BbMxAHH', 'BbAvAHH', 'BbMxAHA', 'BbAvAHA', 'PSCH', 'PSCD', 'PSCA'],\n",
       "      dtype='object')"
      ]
     },
     "execution_count": 5,
     "metadata": {},
     "output_type": "execute_result"
    }
   ],
   "source": [
    "epl2018 = pd.read_csv('resources/leagues/epl2018.csv')\n",
    "epl2018.head()\n",
    "epl2018.columns"
   ]
  },
  {
   "cell_type": "code",
   "execution_count": 6,
   "metadata": {},
   "outputs": [
    {
     "data": {
      "text/plain": [
       "Index(['Unnamed: 0', 'Div', 'Date', 'HomeTeam', 'AwayTeam', 'FTHG', 'FTAG',\n",
       "       'FTR', 'HTHG', 'HTAG', 'HTR', 'HS', 'AS', 'HST', 'AST', 'HF', 'AF',\n",
       "       'HC', 'AC', 'HY', 'AY', 'HR', 'AR', 'B365H', 'B365D', 'B365A', 'BWH',\n",
       "       'BWD', 'BWA', 'IWH', 'IWD', 'IWA', 'LBH', 'LBD', 'LBA', 'PSH', 'PSD',\n",
       "       'PSA', 'WHH', 'WHD', 'WHA', 'VCH', 'VCD', 'VCA', 'Bb1X2', 'BbMxH',\n",
       "       'BbAvH', 'BbMxD', 'BbAvD', 'BbMxA', 'BbAvA', 'BbOU', 'BbMx>2.5',\n",
       "       'BbAv>2.5', 'BbMx<2.5', 'BbAv<2.5', 'BbAH', 'BbAHh', 'BbMxAHH',\n",
       "       'BbAvAHH', 'BbMxAHA', 'BbAvAHA', 'PSCH', 'PSCD', 'PSCA'],\n",
       "      dtype='object')"
      ]
     },
     "execution_count": 6,
     "metadata": {},
     "output_type": "execute_result"
    }
   ],
   "source": [
    "bundesliga2018 = pd.read_csv('resources/leagues/bundesliga2018.csv')\n",
    "bundesliga2018.head()\n",
    "bundesliga2018.columns"
   ]
  },
  {
   "cell_type": "code",
   "execution_count": 44,
   "metadata": {},
   "outputs": [
    {
     "data": {
      "text/html": [
       "<div>\n",
       "<style scoped>\n",
       "    .dataframe tbody tr th:only-of-type {\n",
       "        vertical-align: middle;\n",
       "    }\n",
       "\n",
       "    .dataframe tbody tr th {\n",
       "        vertical-align: top;\n",
       "    }\n",
       "\n",
       "    .dataframe thead th {\n",
       "        text-align: right;\n",
       "    }\n",
       "</style>\n",
       "<table border=\"1\" class=\"dataframe\">\n",
       "  <thead>\n",
       "    <tr style=\"text-align: right;\">\n",
       "      <th></th>\n",
       "      <th>Unnamed: 0</th>\n",
       "      <th>Div</th>\n",
       "      <th>Date</th>\n",
       "      <th>HomeTeam</th>\n",
       "      <th>AwayTeam</th>\n",
       "      <th>FTHG</th>\n",
       "      <th>FTAG</th>\n",
       "      <th>FTR</th>\n",
       "      <th>HTHG</th>\n",
       "      <th>HTAG</th>\n",
       "      <th>...</th>\n",
       "      <th>BbAv&lt;2.5</th>\n",
       "      <th>BbAH</th>\n",
       "      <th>BbAHh</th>\n",
       "      <th>BbMxAHH</th>\n",
       "      <th>BbAvAHH</th>\n",
       "      <th>BbMxAHA</th>\n",
       "      <th>BbAvAHA</th>\n",
       "      <th>PSCH</th>\n",
       "      <th>PSCD</th>\n",
       "      <th>PSCA</th>\n",
       "    </tr>\n",
       "  </thead>\n",
       "  <tbody>\n",
       "    <tr>\n",
       "      <th>0</th>\n",
       "      <td>0</td>\n",
       "      <td>I1</td>\n",
       "      <td>19/08/17</td>\n",
       "      <td>Juventus</td>\n",
       "      <td>Cagliari</td>\n",
       "      <td>3</td>\n",
       "      <td>0</td>\n",
       "      <td>H</td>\n",
       "      <td>2</td>\n",
       "      <td>0</td>\n",
       "      <td>...</td>\n",
       "      <td>2.41</td>\n",
       "      <td>16</td>\n",
       "      <td>-2.00</td>\n",
       "      <td>1.83</td>\n",
       "      <td>1.80</td>\n",
       "      <td>2.13</td>\n",
       "      <td>2.07</td>\n",
       "      <td>1.13</td>\n",
       "      <td>9.74</td>\n",
       "      <td>27.70</td>\n",
       "    </tr>\n",
       "    <tr>\n",
       "      <th>1</th>\n",
       "      <td>1</td>\n",
       "      <td>I1</td>\n",
       "      <td>19/08/17</td>\n",
       "      <td>Verona</td>\n",
       "      <td>Napoli</td>\n",
       "      <td>1</td>\n",
       "      <td>3</td>\n",
       "      <td>A</td>\n",
       "      <td>0</td>\n",
       "      <td>2</td>\n",
       "      <td>...</td>\n",
       "      <td>2.29</td>\n",
       "      <td>16</td>\n",
       "      <td>1.25</td>\n",
       "      <td>1.98</td>\n",
       "      <td>1.95</td>\n",
       "      <td>1.97</td>\n",
       "      <td>1.92</td>\n",
       "      <td>8.37</td>\n",
       "      <td>5.21</td>\n",
       "      <td>1.41</td>\n",
       "    </tr>\n",
       "    <tr>\n",
       "      <th>2</th>\n",
       "      <td>2</td>\n",
       "      <td>I1</td>\n",
       "      <td>20/08/17</td>\n",
       "      <td>Atalanta</td>\n",
       "      <td>Roma</td>\n",
       "      <td>0</td>\n",
       "      <td>1</td>\n",
       "      <td>A</td>\n",
       "      <td>0</td>\n",
       "      <td>1</td>\n",
       "      <td>...</td>\n",
       "      <td>2.06</td>\n",
       "      <td>16</td>\n",
       "      <td>0.25</td>\n",
       "      <td>1.91</td>\n",
       "      <td>1.88</td>\n",
       "      <td>2.04</td>\n",
       "      <td>1.99</td>\n",
       "      <td>2.99</td>\n",
       "      <td>3.44</td>\n",
       "      <td>2.53</td>\n",
       "    </tr>\n",
       "    <tr>\n",
       "      <th>3</th>\n",
       "      <td>3</td>\n",
       "      <td>I1</td>\n",
       "      <td>20/08/17</td>\n",
       "      <td>Bologna</td>\n",
       "      <td>Torino</td>\n",
       "      <td>1</td>\n",
       "      <td>1</td>\n",
       "      <td>D</td>\n",
       "      <td>1</td>\n",
       "      <td>1</td>\n",
       "      <td>...</td>\n",
       "      <td>1.75</td>\n",
       "      <td>16</td>\n",
       "      <td>0.25</td>\n",
       "      <td>1.90</td>\n",
       "      <td>1.87</td>\n",
       "      <td>2.06</td>\n",
       "      <td>2.00</td>\n",
       "      <td>3.35</td>\n",
       "      <td>3.47</td>\n",
       "      <td>2.31</td>\n",
       "    </tr>\n",
       "    <tr>\n",
       "      <th>4</th>\n",
       "      <td>4</td>\n",
       "      <td>I1</td>\n",
       "      <td>20/08/17</td>\n",
       "      <td>Crotone</td>\n",
       "      <td>Milan</td>\n",
       "      <td>0</td>\n",
       "      <td>3</td>\n",
       "      <td>A</td>\n",
       "      <td>0</td>\n",
       "      <td>3</td>\n",
       "      <td>...</td>\n",
       "      <td>2.06</td>\n",
       "      <td>17</td>\n",
       "      <td>1.00</td>\n",
       "      <td>1.89</td>\n",
       "      <td>1.85</td>\n",
       "      <td>2.08</td>\n",
       "      <td>2.02</td>\n",
       "      <td>7.42</td>\n",
       "      <td>4.37</td>\n",
       "      <td>1.52</td>\n",
       "    </tr>\n",
       "  </tbody>\n",
       "</table>\n",
       "<p>5 rows × 65 columns</p>\n",
       "</div>"
      ],
      "text/plain": [
       "   Unnamed: 0 Div      Date  HomeTeam  AwayTeam  FTHG  FTAG FTR  HTHG  HTAG  \\\n",
       "0           0  I1  19/08/17  Juventus  Cagliari     3     0   H     2     0   \n",
       "1           1  I1  19/08/17    Verona    Napoli     1     3   A     0     2   \n",
       "2           2  I1  20/08/17  Atalanta      Roma     0     1   A     0     1   \n",
       "3           3  I1  20/08/17   Bologna    Torino     1     1   D     1     1   \n",
       "4           4  I1  20/08/17   Crotone     Milan     0     3   A     0     3   \n",
       "\n",
       "   ...   BbAv<2.5  BbAH  BbAHh  BbMxAHH  BbAvAHH  BbMxAHA  BbAvAHA  PSCH  \\\n",
       "0  ...       2.41    16  -2.00     1.83     1.80     2.13     2.07  1.13   \n",
       "1  ...       2.29    16   1.25     1.98     1.95     1.97     1.92  8.37   \n",
       "2  ...       2.06    16   0.25     1.91     1.88     2.04     1.99  2.99   \n",
       "3  ...       1.75    16   0.25     1.90     1.87     2.06     2.00  3.35   \n",
       "4  ...       2.06    17   1.00     1.89     1.85     2.08     2.02  7.42   \n",
       "\n",
       "   PSCD   PSCA  \n",
       "0  9.74  27.70  \n",
       "1  5.21   1.41  \n",
       "2  3.44   2.53  \n",
       "3  3.47   2.31  \n",
       "4  4.37   1.52  \n",
       "\n",
       "[5 rows x 65 columns]"
      ]
     },
     "execution_count": 44,
     "metadata": {},
     "output_type": "execute_result"
    }
   ],
   "source": [
    "seriea2018 = pd.read_csv('resources/leagues/seriea2018.csv')\n",
    "seriea2018.head()"
   ]
  },
  {
   "cell_type": "code",
   "execution_count": 7,
   "metadata": {},
   "outputs": [
    {
     "data": {
      "text/plain": [
       "Index(['Unnamed: 0', 'Div', 'Date', 'HomeTeam', 'AwayTeam', 'FTHG', 'FTAG',\n",
       "       'FTR', 'HTHG', 'HTAG', 'HTR', 'HS', 'AS', 'HST', 'AST', 'HF', 'AF',\n",
       "       'HC', 'AC', 'HY', 'AY', 'HR', 'AR', 'B365H', 'B365D', 'B365A', 'BWH',\n",
       "       'BWD', 'BWA', 'IWH', 'IWD', 'IWA', 'LBH', 'LBD', 'LBA', 'PSH', 'PSD',\n",
       "       'PSA', 'WHH', 'WHD', 'WHA', 'VCH', 'VCD', 'VCA', 'Bb1X2', 'BbMxH',\n",
       "       'BbAvH', 'BbMxD', 'BbAvD', 'BbMxA', 'BbAvA', 'BbOU', 'BbMx>2.5',\n",
       "       'BbAv>2.5', 'BbMx<2.5', 'BbAv<2.5', 'BbAH', 'BbAHh', 'BbMxAHH',\n",
       "       'BbAvAHH', 'BbMxAHA', 'BbAvAHA', 'PSCH', 'PSCD', 'PSCA'],\n",
       "      dtype='object')"
      ]
     },
     "execution_count": 7,
     "metadata": {},
     "output_type": "execute_result"
    }
   ],
   "source": [
    "laliga2018 = pd.read_csv('resources/leagues/laliga2018.csv')\n",
    "laliga2018.head()\n",
    "laliga2018.columns"
   ]
  },
  {
   "cell_type": "code",
   "execution_count": null,
   "metadata": {},
   "outputs": [],
   "source": []
  },
  {
   "cell_type": "code",
   "execution_count": null,
   "metadata": {},
   "outputs": [],
   "source": []
  }
 ],
 "metadata": {
  "kernelspec": {
   "display_name": "Python [default]",
   "language": "python",
   "name": "python3"
  },
  "language_info": {
   "codemirror_mode": {
    "name": "ipython",
    "version": 3
   },
   "file_extension": ".py",
   "mimetype": "text/x-python",
   "name": "python",
   "nbconvert_exporter": "python",
   "pygments_lexer": "ipython3",
   "version": "3.6.4"
  }
 },
 "nbformat": 4,
 "nbformat_minor": 2
}
